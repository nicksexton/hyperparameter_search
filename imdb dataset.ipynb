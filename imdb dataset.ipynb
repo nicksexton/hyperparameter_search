{
 "cells": [
  {
   "cell_type": "markdown",
   "metadata": {},
   "source": [
    "# Part 1 - a simple keras model for the IMDB dataset"
   ]
  },
  {
   "cell_type": "code",
   "execution_count": 105,
   "metadata": {},
   "outputs": [],
   "source": [
    "import numpy as np\n",
    "from keras.datasets import imdb\n",
    "from keras import models\n",
    "from keras import layers\n",
    "from keras import optimizers\n",
    "\n",
    "% matplotlib inline"
   ]
  },
  {
   "cell_type": "code",
   "execution_count": 69,
   "metadata": {},
   "outputs": [],
   "source": [
    "(train_data, train_labels), (test_data, test_labels) = imdb.load_data(num_words=10000)"
   ]
  },
  {
   "cell_type": "markdown",
   "metadata": {},
   "source": [
    "Let's decode one of these reviews back into English"
   ]
  },
  {
   "cell_type": "code",
   "execution_count": 70,
   "metadata": {},
   "outputs": [],
   "source": [
    "word_index = imdb.get_word_index()\n",
    "reverse_word_index = dict(\n",
    "    [(value, key) for (key, value) in word_index.items()])\n",
    "decoded_review = ' '.join(\n",
    "    [reverse_word_index.get(i - 3, '?') for i in train_data[0]])"
   ]
  },
  {
   "cell_type": "code",
   "execution_count": 71,
   "metadata": {},
   "outputs": [
    {
     "data": {
      "text/plain": [
       "\"? this film was just brilliant casting location scenery story direction everyone's really suited the part they played and you could just imagine being there robert ? is an amazing actor and now the same being director ? father came from the same scottish island as myself so i loved the fact there was a real connection with this film the witty remarks throughout the film were great it was just brilliant so much that i bought the film as soon as it was released for ? and would recommend it to everyone to watch and the fly fishing was amazing really cried at the end it was so sad and you know what they say if you cry at a film it must have been good and this definitely was also ? to the two little boy's that played the ? of norman and paul they were just brilliant children are often left out of the ? list i think because the stars that play them all grown up are such a big profile for the whole film but these children are amazing and should be praised for what they have done don't you think the whole story was so lovely because it was true and was someone's life after all that was shared with us all\""
      ]
     },
     "execution_count": 71,
     "metadata": {},
     "output_type": "execute_result"
    }
   ],
   "source": [
    "decoded_review"
   ]
  },
  {
   "cell_type": "code",
   "execution_count": 72,
   "metadata": {},
   "outputs": [
    {
     "data": {
      "text/plain": [
       "(25000,)"
      ]
     },
     "execution_count": 72,
     "metadata": {},
     "output_type": "execute_result"
    }
   ],
   "source": [
    "train_data.shape"
   ]
  },
  {
   "cell_type": "markdown",
   "metadata": {},
   "source": [
    "Let's prepare the data by padding the lists and turning them into a tensor."
   ]
  },
  {
   "cell_type": "code",
   "execution_count": 73,
   "metadata": {
    "collapsed": true
   },
   "outputs": [],
   "source": [
    "import numpy as np\n",
    "def vectorize_sequences (sequences, dimension = 10000):\n",
    "    results = np.zeros((len(sequences), dimension))\n",
    "    for i, sequence in enumerate(sequences):\n",
    "        results[i, sequence] = 1.\n",
    "    return results"
   ]
  },
  {
   "cell_type": "code",
   "execution_count": 112,
   "metadata": {
    "collapsed": true
   },
   "outputs": [],
   "source": [
    "x_train = vectorize_sequences (train_data)\n",
    "x_test = vectorize_sequences (test_data)"
   ]
  },
  {
   "cell_type": "code",
   "execution_count": 113,
   "metadata": {
    "collapsed": true
   },
   "outputs": [],
   "source": [
    "y_train = np.asarray(train_labels).astype('float32')#.reshape(y_train.shape[0], 1)\n",
    "y_test = np.asarray(test_labels).astype('float32')#.reshape(y_train.shape[0], 1)"
   ]
  },
  {
   "cell_type": "markdown",
   "metadata": {},
   "source": [
    "x_train now has dimensions (m, n) where m is number of training examples and n is number of features (10,000 possible word features, in this case)"
   ]
  },
  {
   "cell_type": "code",
   "execution_count": 114,
   "metadata": {},
   "outputs": [
    {
     "name": "stdout",
     "output_type": "stream",
     "text": [
      "x_train.shape =  (25000, 10000)\n",
      "x_test.shape =  (25000, 10000)\n",
      "y_train.shape =  (25000,)\n",
      "y_test.shape =  (25000,)\n"
     ]
    }
   ],
   "source": [
    "print (\"x_train.shape = \", x_train.shape)\n",
    "print (\"x_test.shape = \", x_test.shape)\n",
    "print (\"y_train.shape = \", y_train.shape)\n",
    "print (\"y_test.shape = \", y_test.shape)"
   ]
  },
  {
   "cell_type": "markdown",
   "metadata": {},
   "source": [
    "As we're going to be doing some quite intensive fitting of hyperparameters based on accuracy of the test set, we need a third dev set. Since the test set is generously sized, let's just split that in two."
   ]
  },
  {
   "cell_type": "code",
   "execution_count": 115,
   "metadata": {},
   "outputs": [],
   "source": [
    "x_dev = x_test[0: 10000,:]\n",
    "y_dev = y_test[0: 10000]\n",
    "\n",
    "x_test = x_test[10000:x_test.shape[0], :]\n",
    "y_test = y_test[10000:y_test.shape[0]]"
   ]
  },
  {
   "cell_type": "code",
   "execution_count": 116,
   "metadata": {},
   "outputs": [
    {
     "name": "stdout",
     "output_type": "stream",
     "text": [
      "x_train.shape =  (25000, 10000)\n",
      "x_dev.shape =  (10000, 10000)\n",
      "x_test.shape =  (15000, 10000)\n",
      "y_train.shape =  (25000,)\n",
      "y_dev.shape =  (10000,)\n",
      "y_test.shape =  (15000,)\n"
     ]
    }
   ],
   "source": [
    "print (\"x_train.shape = \", x_train.shape)\n",
    "print (\"x_dev.shape = \", x_dev.shape)\n",
    "print (\"x_test.shape = \", x_test.shape)\n",
    "\n",
    "print (\"y_train.shape = \", y_train.shape)\n",
    "print (\"y_dev.shape = \", y_dev.shape)\n",
    "print (\"y_test.shape = \", y_test.shape)"
   ]
  },
  {
   "cell_type": "markdown",
   "metadata": {},
   "source": [
    "# Initialize the network"
   ]
  },
  {
   "cell_type": "code",
   "execution_count": 117,
   "metadata": {},
   "outputs": [],
   "source": [
    "model = models.Sequential()\n",
    "model.add (layers.Dense(16, activation='relu', input_shape = (10000,)))\n",
    "model.add (layers.Dense(16, activation='relu'))\n",
    "model.add (layers.Dense(1, activation='sigmoid'))\n",
    "model.compile (optimizer='rmsprop', \n",
    "               loss = 'binary_crossentropy',\n",
    "               metrics = ['acc'])"
   ]
  },
  {
   "cell_type": "code",
   "execution_count": 118,
   "metadata": {},
   "outputs": [
    {
     "name": "stdout",
     "output_type": "stream",
     "text": [
      "Train on 25000 samples, validate on 10000 samples\n",
      "Epoch 1/20\n",
      "25000/25000 [==============================] - 3s 122us/step - loss: 0.4472 - acc: 0.8148 - val_loss: 0.3445 - val_acc: 0.8672\n",
      "Epoch 2/20\n",
      "25000/25000 [==============================] - 2s 98us/step - loss: 0.2554 - acc: 0.9087 - val_loss: 0.2854 - val_acc: 0.8865\n",
      "Epoch 3/20\n",
      "25000/25000 [==============================] - 2s 97us/step - loss: 0.1976 - acc: 0.9276 - val_loss: 0.2887 - val_acc: 0.8821\n",
      "Epoch 4/20\n",
      "25000/25000 [==============================] - 2s 99us/step - loss: 0.1667 - acc: 0.9398 - val_loss: 0.3065 - val_acc: 0.8774\n",
      "Epoch 5/20\n",
      "25000/25000 [==============================] - 2s 97us/step - loss: 0.1421 - acc: 0.9497 - val_loss: 0.3578 - val_acc: 0.8656\n",
      "Epoch 6/20\n",
      "25000/25000 [==============================] - 2s 97us/step - loss: 0.1227 - acc: 0.9578 - val_loss: 0.3629 - val_acc: 0.8666\n",
      "Epoch 7/20\n",
      "25000/25000 [==============================] - 2s 98us/step - loss: 0.1068 - acc: 0.9632 - val_loss: 0.3962 - val_acc: 0.8637\n",
      "Epoch 8/20\n",
      "25000/25000 [==============================] - 2s 99us/step - loss: 0.0953 - acc: 0.9670 - val_loss: 0.3913 - val_acc: 0.8680\n",
      "Epoch 9/20\n",
      "25000/25000 [==============================] - 3s 101us/step - loss: 0.0808 - acc: 0.9736 - val_loss: 0.4225 - val_acc: 0.8625\n",
      "Epoch 10/20\n",
      "25000/25000 [==============================] - 2s 99us/step - loss: 0.0689 - acc: 0.9773 - val_loss: 0.4707 - val_acc: 0.8606\n",
      "Epoch 11/20\n",
      "25000/25000 [==============================] - 2s 98us/step - loss: 0.0592 - acc: 0.9810 - val_loss: 0.4917 - val_acc: 0.8605\n",
      "Epoch 12/20\n",
      "25000/25000 [==============================] - 2s 100us/step - loss: 0.0520 - acc: 0.9844 - val_loss: 0.5212 - val_acc: 0.8599\n",
      "Epoch 13/20\n",
      "25000/25000 [==============================] - 2s 98us/step - loss: 0.0417 - acc: 0.9885 - val_loss: 0.5649 - val_acc: 0.8564\n",
      "Epoch 14/20\n",
      "25000/25000 [==============================] - 2s 98us/step - loss: 0.0353 - acc: 0.9903 - val_loss: 0.5972 - val_acc: 0.8566\n",
      "Epoch 15/20\n",
      "25000/25000 [==============================] - 2s 99us/step - loss: 0.0303 - acc: 0.9918 - val_loss: 0.6303 - val_acc: 0.8542\n",
      "Epoch 16/20\n",
      "25000/25000 [==============================] - 2s 99us/step - loss: 0.0251 - acc: 0.9935 - val_loss: 0.6637 - val_acc: 0.8536\n",
      "Epoch 17/20\n",
      "25000/25000 [==============================] - 2s 99us/step - loss: 0.0187 - acc: 0.9957 - val_loss: 0.7548 - val_acc: 0.8446\n",
      "Epoch 18/20\n",
      "25000/25000 [==============================] - 2s 99us/step - loss: 0.0171 - acc: 0.9962 - val_loss: 0.7403 - val_acc: 0.8503\n",
      "Epoch 19/20\n",
      "25000/25000 [==============================] - 2s 99us/step - loss: 0.0160 - acc: 0.9958 - val_loss: 0.7742 - val_acc: 0.8503\n",
      "Epoch 20/20\n",
      "25000/25000 [==============================] - 3s 101us/step - loss: 0.0091 - acc: 0.9982 - val_loss: 0.8121 - val_acc: 0.8498\n"
     ]
    }
   ],
   "source": [
    "history = model.fit (x_train, y_train, \n",
    "                     epochs = 20, batch_size=512, \n",
    "                     validation_data=(x_dev, y_dev))"
   ]
  },
  {
   "cell_type": "code",
   "execution_count": 119,
   "metadata": {},
   "outputs": [
    {
     "data": {
      "text/plain": [
       "dict_keys(['val_loss', 'val_acc', 'loss', 'acc'])"
      ]
     },
     "execution_count": 119,
     "metadata": {},
     "output_type": "execute_result"
    }
   ],
   "source": [
    "history_dict = history.history\n",
    "history_dict.keys()"
   ]
  },
  {
   "cell_type": "code",
   "execution_count": 120,
   "metadata": {},
   "outputs": [
    {
     "data": {
      "text/plain": [
       "<function matplotlib.pyplot.show>"
      ]
     },
     "execution_count": 120,
     "metadata": {},
     "output_type": "execute_result"
    },
    {
     "data": {
      "image/png": "[encoded data removed]",
      "text/plain": [
       "<Figure size 432x288 with 1 Axes>"
      ]
     },
     "metadata": {},
     "output_type": "display_data"
    }
   ],
   "source": [
    "import matplotlib.pyplot as plt\n",
    "acc = history_dict['acc']\n",
    "loss_values = history_dict['loss']\n",
    "val_loss_values = history_dict['val_loss']\n",
    "\n",
    "epochs = range(1, len(acc) + 1)\n",
    "\n",
    "plt.plot (epochs, loss_values, 'bo', label = 'Training loss')\n",
    "plt.plot (epochs, val_loss_values, 'b', label = 'Validation loss')\n",
    "plt.title('Training and validation loss')\n",
    "plt.xlabel('Epochs')\n",
    "plt.ylabel('Loss')\n",
    "plt.legend()\n",
    "\n",
    "plt.show"
   ]
  },
  {
   "cell_type": "code",
   "execution_count": 121,
   "metadata": {},
   "outputs": [
    {
     "data": {
      "text/plain": [
       "<function matplotlib.pyplot.show>"
      ]
     },
     "execution_count": 121,
     "metadata": {},
     "output_type": "execute_result"
    },
    {
     "data": {
      "image/png": "[encoded data removed]",
      "text/plain": [
       "<Figure size 432x288 with 1 Axes>"
      ]
     },
     "metadata": {},
     "output_type": "display_data"
    }
   ],
   "source": [
    "plt.clf()\n",
    "\n",
    "acc_values = history_dict['acc']\n",
    "val_acc_values = history_dict['val_acc']\n",
    "\n",
    "plt.plot (epochs, acc_values, 'bo', label = 'Training acc')\n",
    "plt.plot (epochs, val_acc_values, 'b', label = 'Validation acc')\n",
    "plt.title('Training and validation accuracy')\n",
    "plt.xlabel('Epochs')\n",
    "plt.ylabel('Accuracy')\n",
    "plt.legend()\n",
    "\n",
    "plt.show"
   ]
  },
  {
   "cell_type": "markdown",
   "metadata": {},
   "source": [
    "# Hyperparameter Search Algorithm"
   ]
  },
  {
   "cell_type": "code",
   "execution_count": 129,
   "metadata": {},
   "outputs": [
    {
     "name": "stdout",
     "output_type": "stream",
     "text": [
      "training accuracy 0.9982399999046325\n",
      "test accuracy 0.8498\n",
      "training loss 0.0091075830706954\n",
      "test loss 0.8120950507164002\n"
     ]
    }
   ],
   "source": [
    "print (\"training accuracy\", history.history['acc'][-1])\n",
    "print (\"test accuracy\", history.history['val_acc'][-1])\n",
    "print (\"training loss\", history.history['loss'][-1])\n",
    "print (\"test loss\", history.history['val_loss'][-1])"
   ]
  },
  {
   "cell_type": "markdown",
   "metadata": {},
   "source": [
    "To start with, let's build an algorithm that trains a model for 10 epochs and varies a hyperparameter randomly between two start/end points. Let's just use the learning rate for now. We'll use a log uniform random distribution. We can do this quite easily just by rerunning the `model.compile` step."
   ]
  },
  {
   "cell_type": "code",
   "execution_count": null,
   "metadata": {
    "collapsed": true
   },
   "outputs": [],
   "source": [
    "def search_learning_rate(model, lr_bounds = [0.0001, 0.1]):\n",
    "    "
   ]
  },
  {
   "cell_type": "code",
   "execution_count": 130,
   "metadata": {
    "collapsed": true
   },
   "outputs": [],
   "source": [
    "from numpy import random"
   ]
  },
  {
   "cell_type": "code",
   "execution_count": 135,
   "metadata": {},
   "outputs": [],
   "source": [
    "iterations = 10                                 # how many different values of the lr to try\n",
    "\n",
    "# search a log uniformly distributed \n",
    "exponent = (-3 * random.rand(iterations,1)) - 1 # exponent - search between 10^-4 and 10^-1\n",
    "lr = 10 ** exponent "
   ]
  },
  {
   "cell_type": "code",
   "execution_count": 136,
   "metadata": {},
   "outputs": [
    {
     "name": "stdout",
     "output_type": "stream",
     "text": [
      "[[0.00502329]\n",
      " [0.00030157]\n",
      " [0.00496886]\n",
      " [0.00214541]\n",
      " [0.07589625]\n",
      " [0.00300482]\n",
      " [0.00097269]\n",
      " [0.00280613]\n",
      " [0.02371183]\n",
      " [0.00621786]]\n"
     ]
    }
   ],
   "source": [
    "print (lr)"
   ]
  },
  {
   "cell_type": "code",
   "execution_count": null,
   "metadata": {
    "collapsed": true
   },
   "outputs": [],
   "source": []
  }
 ],
 "metadata": {
  "kernelspec": {
   "display_name": "Python 3",
   "language": "python",
   "name": "python3"
  },
  "language_info": {
   "codemirror_mode": {
    "name": "ipython",
    "version": 3
   },
   "file_extension": ".py",
   "mimetype": "text/x-python",
   "name": "python",
   "nbconvert_exporter": "python",
   "pygments_lexer": "ipython3",
   "version": "3.6.3"
  }
 },
 "nbformat": 4,
 "nbformat_minor": 2
}
